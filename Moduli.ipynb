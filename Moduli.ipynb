{
 "cells": [
  {
   "cell_type": "markdown",
   "id": "70d6f909-e3e4-49d7-b101-1dfa522cddc2",
   "metadata": {},
   "source": [
    "This is a rough and quick visualization of some ideas inspired by [this video](https://youtu.be/cLOzeefEiVo?si=rkcOW2csF3_95NGh) from Demotro's Combo Class.\n",
    "\n",
    "Change the value of n in the first code cell below to create different sizes of matrix. 512 gives enough detail near the origin.\n",
    "More than 512 will start to take a lot of time. I might optimize the functions in a later iteration.\n",
    "It is easiest to restart the kernel and go from a fresh start if you change n.\n",
    "\n",
    "There are comments throughout to guide you in places that can be changed for interesting effects.\n",
    "Some code is commented out and may need to be toggled on as part of those changes.\n",
    "Similarly you might have to read the errors after a change and comment to disable some things.\n"
   ]
  },
  {
   "cell_type": "code",
   "execution_count": 1,
   "id": "9486c370-46c4-4e89-9352-8190aa9f197a",
   "metadata": {
    "scrolled": true
   },
   "outputs": [],
   "source": [
    "import numpy as np\n",
    "from math import *\n",
    "n = 512 # Change this to change the size of the pre-computed numeric data set\n",
    "\n",
    "# Make the numpy array multiplication table with int32 for quick calculations\n",
    "multiplication_table = np.array(\n",
    "    [[i * j for j in range(1,n)] for i in range(1,n)] , dtype = np.uint64\n",
    ")"
   ]
  },
  {
   "cell_type": "code",
   "execution_count": 2,
   "id": "b04b8ab2-7711-4e50-8786-0a44888ed177",
   "metadata": {
    "jupyter": {
     "source_hidden": true
    },
    "scrolled": true
   },
   "outputs": [],
   "source": [
    "modulo_matrix = np.array(\n",
    "    [[[\n",
    "        entry % i for entry in row\n",
    "    ]   for i in range(1,n) \n",
    "    ]\n",
    "        for row in multiplication_table\n",
    "    ],\n",
    "    dtype = np.uint64\n",
    ")\n",
    "slider_max = modulo_matrix.shape[0] - 1\n",
    "# Other transposes are basically the same. It might be worth making another with a different construction\n",
    "matrix_transpose = np.transpose( modulo_matrix, axes = (1,0,2) )"
   ]
  },
  {
   "cell_type": "code",
   "execution_count": 3,
   "id": "6927b2ca-4fe3-43ce-8132-e5f9528afd49",
   "metadata": {},
   "outputs": [],
   "source": [
    "%matplotlib inline\n",
    "import matplotlib.pyplot as plt\n",
    "import matplotlib.colors as colors\n",
    "from ipywidgets import interact, interactive, GridspecLayout, Layout\n",
    "import ipywidgets as widgets\n",
    "from IPython.display import display\n",
    "color_map = 'terrain' # << Change this for different colors\n",
    "# Some other cmaps to try\n",
    "# terrain ocean cubehelix twilight seismic PuOr plasma magma cividis"
   ]
  },
  {
   "cell_type": "markdown",
   "id": "e70bbe3c-41c1-44dd-858d-5ce98cce9841",
   "metadata": {},
   "source": [
    "Unhide the cell below to alter the plot types.\n",
    "I hope the sliders make some sense."
   ]
  },
  {
   "cell_type": "code",
   "execution_count": 4,
   "id": "3ea22e5f-e943-4361-89d7-a54ded31c3ab",
   "metadata": {
    "jupyter": {
     "source_hidden": true
    }
   },
   "outputs": [
    {
     "data": {
      "application/vnd.jupyter.widget-view+json": {
       "model_id": "fc8d782735ff4318a5278ddb69fbfbc8",
       "version_major": 2,
       "version_minor": 0
      },
      "text/plain": [
       "GridspecLayout(children=(Checkbox(value=False, layout=Layout(grid_area='widget001')), Label(value=\"Polar (only…"
      ]
     },
     "metadata": {},
     "output_type": "display_data"
    },
    {
     "data": {
      "application/vnd.jupyter.widget-view+json": {
       "model_id": "faf77b411eb347f987253e703e9befe0",
       "version_major": 2,
       "version_minor": 0
      },
      "text/plain": [
       "Output()"
      ]
     },
     "metadata": {},
     "output_type": "display_data"
    }
   ],
   "source": [
    "\n",
    "def plot_modulus(times, xminimum, xmaximum, yminimum, ymaximum, polar):\n",
    "    p = 'polar' if polar else 'cartesian'\n",
    "    fig = plt.figure(figsize=(20,10))\n",
    "    gs = fig.add_gridspec(1,2)\n",
    "    axs1 = fig.add_subplot(gs[0,0])\n",
    "    # axs1.set_title( str(times) + \" * n <= \" + str(slider_max + 1) + \" modulo 2 through \" + str(slider_max + 1))\n",
    "    axs1.set_xlabel(\"Modulus\")\n",
    "    axs1.set_ylabel(str(times) + \" * n\")\n",
    "    # changing out the method call on the ax# and modifying the inputs can give some interesting variations of views.\n",
    "    axs1.imshow(\n",
    "        modulo_matrix[times - 1][yminimum:ymaximum,xminimum:xmaximum],\n",
    "        cmap=color_map,\n",
    "        # projection=p,\n",
    "    )\n",
    "    axs2 = fig.add_subplot(gs[0,1])\n",
    "    # axs2.set_title(str(times) + \" times table modulo \" + str(times))\n",
    "    axs2.set_xlabel(str(times) + \" * n modulo \" + str(times))\n",
    "    axs2.set_ylabel(str(times) + \" * n modulo \" + str(times))\n",
    "    axs2.imshow(\n",
    "        matrix_transpose[times - 2][yminimum:ymaximum,xminimum:xmaximum],\n",
    "        cmap=color_map,\n",
    "        # projection=p,\n",
    "    )\n",
    "    plt.show()\n",
    "\n",
    "\n",
    "\n",
    "# interact(plot_modulus, x, y=widgets.IntSlider(min=2, max=slider_max, step=1, value=2, description='Current Times Table', continuous_update=False));\n",
    "# interact(plot_modulus, y=widgets.IntSlider(min=2, max=slider_max, step=1, value=slider_max, description='Current Times Table', continuous_update=False));\n",
    "times = widgets.IntSlider(min=2, max=slider_max, step=1, value=23, layout = Layout(width=\"80%\"), continuous_update=False)\n",
    "timeslabel = widgets.Label(\"times\")\n",
    "yminimum = widgets.IntSlider(min=2, max=slider_max, step=1, value=2, layout = Layout(width=\"80%\"),  continuous_update=False)\n",
    "yminlabel = widgets.Label(\"y min\")\n",
    "ymaximum = widgets.IntSlider(min=4, max=slider_max, step=1, value=slider_max, layout = Layout(width=\"80%\"),  continuous_update=False)\n",
    "ymaxlabel = widgets.Label(\"y max\")\n",
    "xminimum = widgets.IntSlider(min=2, max=slider_max, step=1, value=2, layout = Layout(width=\"80%\"),  continuous_update=False)\n",
    "xminlabel = widgets.Label(\"x min\")\n",
    "xmaximum = widgets.IntSlider(min=4, max=slider_max, step=1, value=slider_max, layout = Layout(width=\"80%\"),  continuous_update=False)\n",
    "xmaxlabel = widgets.Label(\"x max\")\n",
    "polar = widgets.Checkbox(value = False)\n",
    "plabel = widgets.Label(\"Polar (only enable for certain plot types, you'll need to modify the code)\")\n",
    "ui = GridspecLayout(6,12,width=\"100%\")\n",
    "ui[0,0] = polar\n",
    "ui[0,1:]= plabel\n",
    "ui[1,0] = yminlabel\n",
    "ui[1,1:] = yminimum\n",
    "ui[2,0] = ymaxlabel\n",
    "ui[2,1:] = ymaximum\n",
    "ui[3,0] = xminlabel\n",
    "ui[3,1:] = xminimum\n",
    "ui[4,0] = xmaxlabel\n",
    "ui[4,1:] = xmaximum\n",
    "ui[5,0] = timeslabel\n",
    "ui[5,1:] = times\n",
    "\n",
    "\n",
    "out = widgets.interactive_output(\n",
    "    plot_modulus, \n",
    "    {\n",
    "        'times':times,\n",
    "        'xminimum':xminimum,\n",
    "        'xmaximum':xmaximum,\n",
    "        'yminimum':yminimum,\n",
    "        'ymaximum':ymaximum,\n",
    "        'polar': polar,\n",
    "    }\n",
    ")\n",
    "\n",
    "display(ui, out)\n",
    "\n",
    "def update_yminimum_range(*args):\n",
    "    yminimum.max = ymaximum.value - 2\n",
    "    display(ui, out)\n",
    "ymaximum.observe(update_yminimum_range, 'value')\n",
    "def update_ymaximum_range(*args):\n",
    "    ymaximum.min = yminimum.value + 2\n",
    "    display(ui, out)\n",
    "yminimum.observe(update_ymaximum_range, 'value')\n",
    "\n",
    "def update_xminimum_range(*args):\n",
    "    xminimum.max = xmaximum.value - 2\n",
    "    display(ui, out)\n",
    "xmaximum.observe(update_xminimum_range, 'value')\n",
    "def update_xmaximum_range(*args):\n",
    "    xmaximum.min = xminimum.value + 2\n",
    "    display(ui, out)\n",
    "xminimum.observe(update_xmaximum_range, 'value')\n"
   ]
  }
 ],
 "metadata": {
  "kernelspec": {
   "display_name": "Python 3 (ipykernel)",
   "language": "python",
   "name": "python3"
  },
  "language_info": {
   "codemirror_mode": {
    "name": "ipython",
    "version": 3
   },
   "file_extension": ".py",
   "mimetype": "text/x-python",
   "name": "python",
   "nbconvert_exporter": "python",
   "pygments_lexer": "ipython3",
   "version": "3.13.5"
  }
 },
 "nbformat": 4,
 "nbformat_minor": 5
}
